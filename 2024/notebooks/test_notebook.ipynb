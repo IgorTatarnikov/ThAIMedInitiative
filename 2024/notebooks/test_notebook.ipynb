{
 "cells": [
  {
   "metadata": {},
   "cell_type": "markdown",
   "source": [
    "## Import libraries\n",
    "\n",
    "Import the libraries that are used throughout the rest of the notebook\n"
   ],
   "id": "1b968a7f47bd34c6"
  },
  {
   "cell_type": "code",
   "execution_count": null,
   "id": "initial_id",
   "metadata": {
    "collapsed": true
   },
   "outputs": [],
   "source": [
    "# @title Import libraries\n",
    "import seaborn as sns\n",
    "import pandas as pd"
   ]
  },
  {
   "metadata": {},
   "cell_type": "markdown",
   "source": [
    "# Load data\n",
    "\n",
    "Load the data that will be used in the rest of the notebook"
   ],
   "id": "c7a5446cfe658f41"
  },
  {
   "metadata": {},
   "cell_type": "code",
   "outputs": [],
   "execution_count": null,
   "source": [
    "# @title Load data\n",
    "\n",
    "demographics_df = pd.read_csv('https://raw.githubusercontent.com/RileyZurrin/NHANES_Extractor/main/Data_scraper/NHANES_2017-2018/demographics.csv')\n",
    "dietary_df = pd.read_csv('https://raw.githubusercontent.com/RileyZurrin/NHANES_Extractor/main/Data_scraper/NHANES_2017-2018/dietary.csv')\n",
    "examination_df = pd.read_csv('https://raw.githubusercontent.com/RileyZurrin/NHANES_Extractor/main/Data_scraper/NHANES_2017-2018/examination.csv')\n",
    "labs_df = pd.read_csv('https://raw.githubusercontent.com/RileyZurrin/NHANES_Extractor/main/Data_scraper/NHANES_2017-2018/laboratory.csv')\n",
    "questionnaire_df = pd.read_csv('https://raw.githubusercontent.com/RileyZurrin/NHANES_Extractor/main/Data_scraper/NHANES_2017-2018/questionnaire.csv')\n",
    "\n",
    "encodings_df = pd.read_csv('https://raw.githubusercontent.com/RileyZurrin/NHANES_Extractor/main/Dictionary_scraper/NHANES_2017-2018/encodings.csv')\n",
    "description_df = pd.read_csv('https://raw.githubusercontent.com/RileyZurrin/NHANES_Extractor/main/Dictionary_scraper/NHANES_2017-2018/descriptions.csv')"
   ],
   "id": "c3a9c5e9599bad6c"
  }
 ],
 "metadata": {
  "kernelspec": {
   "display_name": "Python 3",
   "language": "python",
   "name": "python3"
  },
  "language_info": {
   "codemirror_mode": {
    "name": "ipython",
    "version": 2
   },
   "file_extension": ".py",
   "mimetype": "text/x-python",
   "name": "python",
   "nbconvert_exporter": "python",
   "pygments_lexer": "ipython2",
   "version": "2.7.6"
  }
 },
 "nbformat": 4,
 "nbformat_minor": 5
}
