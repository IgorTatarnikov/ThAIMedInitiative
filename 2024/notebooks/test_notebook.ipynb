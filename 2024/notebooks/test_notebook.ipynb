{
 "cells": [
  {
   "metadata": {},
   "cell_type": "markdown",
   "source": [
    "## Import libraries\n",
    "\n",
    "Import the libraries that are used throughout the rest of the notebook\n"
   ],
   "id": "1b968a7f47bd34c6"
  },
  {
   "cell_type": "code",
   "id": "initial_id",
   "metadata": {
    "collapsed": true,
    "ExecuteTime": {
     "end_time": "2024-06-18T10:28:54.495052Z",
     "start_time": "2024-06-18T10:28:54.474645Z"
    }
   },
   "source": [
    "# @title Import libraries\n",
    "%matplotlib inline\n",
    "\n",
    "import ipywidgets as widgets\n",
    "import matplotlib.pyplot as plt\n",
    "import pandas as pd\n",
    "import seaborn as sns\n",
    "\n",
    "from IPython.display import display"
   ],
   "outputs": [],
   "execution_count": 47
  },
  {
   "metadata": {},
   "cell_type": "markdown",
   "source": [
    "# Load data\n",
    "\n",
    "Load the data that will be used in the rest of the notebook"
   ],
   "id": "c7a5446cfe658f41"
  },
  {
   "metadata": {
    "ExecuteTime": {
     "end_time": "2024-06-18T10:27:03.796382Z",
     "start_time": "2024-06-18T10:27:01.272458Z"
    }
   },
   "cell_type": "code",
   "source": [
    "# @title Load data\n",
    "\n",
    "\n",
    "demographics_columns = [\n",
    "    \"RIAGENDR\", \"RIDAGEYR\", \"RIDAGEMN\", \"RIDRETH1\", \"RIDRETH3\", \"DMDEDUC3\", \"DMDEDUC2\", \"INDHHIN2\", \"INDFMIN2\"\n",
    "]\n",
    "examination_columns = [\n",
    "    \"BPXCHR\", \"BPXPLS\", \"BPXSY1\", \"BPXDI1\", \"BPXSY2\", \"BPXDI2\", \"BPXSY3\", \"BPXDI3\", \"BPXSY4\", \"BPXDI4\", \"BMXWT\", \"BMXHT\", \"BMXBMI\", \"BMXWAIST\", \"BMXHIP\",\n",
    "]\n",
    "lab_columns = [\n",
    "     \"LBDHDD\", \"LBXTC\", \"LBXGLU\",\n",
    "]\n",
    "questionnaire_columns = [\n",
    "    \"DIQ010\", \"DIQ160\", \"DIQ170\", \"DIQ172\", \"DIQ175A\"\n",
    "]\n",
    "\n",
    "demographics_df = pd.read_csv('https://raw.githubusercontent.com/RileyZurrin/NHANES_Extractor/main/Data_scraper/NHANES_2017-2018/demographics.csv').set_index('SEQN')\n",
    "dietary_df = pd.read_csv('https://raw.githubusercontent.com/RileyZurrin/NHANES_Extractor/main/Data_scraper/NHANES_2017-2018/dietary.csv').set_index('SEQN')\n",
    "examination_df = pd.read_csv('https://raw.githubusercontent.com/RileyZurrin/NHANES_Extractor/main/Data_scraper/NHANES_2017-2018/examination.csv').set_index('SEQN')\n",
    "labs_df = pd.read_csv('https://raw.githubusercontent.com/RileyZurrin/NHANES_Extractor/main/Data_scraper/NHANES_2017-2018/laboratory.csv').set_index('SEQN')\n",
    "questionnaire_df = pd.read_csv('https://raw.githubusercontent.com/RileyZurrin/NHANES_Extractor/main/Data_scraper/NHANES_2017-2018/questionnaire.csv').set_index('SEQN')\n",
    "\n",
    "encodings_df = pd.read_csv('https://raw.githubusercontent.com/RileyZurrin/NHANES_Extractor/main/Dictionary_scraper/NHANES_2017-2018/encodings.csv')\n",
    "description_df = pd.read_csv('https://raw.githubusercontent.com/RileyZurrin/NHANES_Extractor/main/Dictionary_scraper/NHANES_2017-2018/descriptions.csv')\n",
    "master_df = demographics_df[demographics_columns]\n",
    "master_df = master_df.join(other=[examination_df[examination_columns], labs_df[lab_columns], questionnaire_df[questionnaire_columns]], how=\"outer\")\n",
    "\n",
    "final_columns = demographics_columns + examination_columns + lab_columns + questionnaire_columns\n",
    "master_encodings = encodings_df[encodings_df[\"Variable\"].isin(final_columns)]\n",
    "master_descriptions = description_df[description_df[\"Variable\"].isin(final_columns)]\n",
    "master_meta_df = master_descriptions.merge(right=master_encodings, on=\"Variable\", how=\"outer\")"
   ],
   "id": "c3a9c5e9599bad6c",
   "outputs": [],
   "execution_count": 41
  },
  {
   "metadata": {
    "ExecuteTime": {
     "end_time": "2024-06-18T10:30:25.944084Z",
     "start_time": "2024-06-18T10:30:25.870217Z"
    }
   },
   "cell_type": "code",
   "source": [
    "# @title Visualise the data\n",
    "\n",
    "def plot_histogram(field_desc, split_on_desc, normalise):\n",
    "    field = master_meta_df[master_meta_df['Label'] == field_desc]\n",
    "    split_on = master_meta_df[master_meta_df['Label'] == split_on_desc]\n",
    "    \n",
    "    if normalise:\n",
    "        sns.histplot(master_df, x=field, hue=split_on, common_norm=False)\n",
    "    else:\n",
    "        sns.histplot(master_df, x=field, hue=split_on)\n",
    "    \n",
    "    print(\"Test run\")\n",
    "    plt.show()\n",
    "        \n",
    "hist_widgets = widgets.interact(\n",
    "    plot_histogram, \n",
    "    field_desc=widgets.Dropdown(options=master_meta_df['Label'], value=master_meta_df['Label'][4], description='Value to plot: =', disabled=False),\n",
    "    split_on_desc=widgets.Dropdown(options=master_meta_df['Label'], value=master_meta_df['Label'][27], description='Value to plot: =', disabled=False),\n",
    "    normalise=widgets.Checkbox(value=True)\n",
    ")"
   ],
   "id": "4fd205ae05d8dfcb",
   "outputs": [
    {
     "data": {
      "text/plain": [
       "interactive(children=(Dropdown(description='Value to plot: =', index=4, options=('Body Mass Index (kg/m**2)', …"
      ],
      "application/vnd.jupyter.widget-view+json": {
       "version_major": 2,
       "version_minor": 0,
       "model_id": "2e287e7a1d2d408e9320d24c178aff49"
      }
     },
     "metadata": {},
     "output_type": "display_data"
    }
   ],
   "execution_count": 52
  }
 ],
 "metadata": {
  "kernelspec": {
   "display_name": "Python 3",
   "language": "python",
   "name": "python3"
  },
  "language_info": {
   "codemirror_mode": {
    "name": "ipython",
    "version": 2
   },
   "file_extension": ".py",
   "mimetype": "text/x-python",
   "name": "python",
   "nbconvert_exporter": "python",
   "pygments_lexer": "ipython2",
   "version": "2.7.6"
  }
 },
 "nbformat": 4,
 "nbformat_minor": 5
}
